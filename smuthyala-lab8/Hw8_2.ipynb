{
 "cells": [
  {
   "cell_type": "code",
   "execution_count": 53,
   "id": "ce2909dd",
   "metadata": {},
   "outputs": [
    {
     "data": {
      "text/plain": [
       "'\\nProgram performs data analysis using pandas.\\nAuthor: Sanjay Reddy Muthyala\\n'"
      ]
     },
     "execution_count": 53,
     "metadata": {},
     "output_type": "execute_result"
    }
   ],
   "source": [
    "'''\n",
    "Program performs data analysis using pandas.\n",
    "Author: Sanjay Reddy Muthyala\n",
    "'''"
   ]
  },
  {
   "cell_type": "code",
   "execution_count": 54,
   "id": "be50ee6a",
   "metadata": {},
   "outputs": [],
   "source": [
    "import numpy as np \n",
    "import pandas as pd"
   ]
  },
  {
   "cell_type": "code",
   "execution_count": 55,
   "id": "69d20851",
   "metadata": {},
   "outputs": [
    {
     "data": {
      "text/plain": [
       "(1309, 5)"
      ]
     },
     "execution_count": 55,
     "metadata": {},
     "output_type": "execute_result"
    }
   ],
   "source": [
    "titanic = pd.read_csv('titanic.csv')\n",
    "\n",
    "#size of the dataset\n",
    "titanic.shape"
   ]
  },
  {
   "cell_type": "code",
   "execution_count": 56,
   "id": "e1d20360",
   "metadata": {},
   "outputs": [
    {
     "name": "stdout",
     "output_type": "stream",
     "text": [
      "<class 'pandas.core.frame.DataFrame'>\n",
      "RangeIndex: 1309 entries, 0 to 1308\n",
      "Data columns (total 5 columns):\n",
      " #   Column          Non-Null Count  Dtype  \n",
      "---  ------          --------------  -----  \n",
      " 0   Name            1309 non-null   object \n",
      " 1   survived        1309 non-null   object \n",
      " 2   sex             1309 non-null   object \n",
      " 3   age             1046 non-null   float64\n",
      " 4   passengerClass  1309 non-null   object \n",
      "dtypes: float64(1), object(4)\n",
      "memory usage: 51.3+ KB\n"
     ]
    }
   ],
   "source": [
    "#summary of data-frame\n",
    "titanic.info()"
   ]
  },
  {
   "cell_type": "code",
   "execution_count": 57,
   "id": "5b2a71ce",
   "metadata": {},
   "outputs": [
    {
     "name": "stdout",
     "output_type": "stream",
     "text": [
      "                              Name survived     sex      age passengerClass\n",
      "0    Allen, Miss. Elisabeth Walton      yes  female  29.0000            1st\n",
      "1   Allison, Master. Hudson Trevor      yes    male   0.9167            1st\n",
      "2     Allison, Miss. Helen Loraine       no  female   2.0000            1st\n",
      "3  Allison, Mr. Hudson Joshua Crei       no    male  30.0000            1st\n",
      "4  Allison, Mrs. Hudson J C (Bessi       no  female  25.0000            1st\n",
      "5              Anderson, Mr. Harry      yes    male  48.0000            1st\n",
      "6  Andrews, Miss. Kornelia Theodos      yes  female  63.0000            1st\n",
      "7           Andrews, Mr. Thomas Jr       no    male  39.0000            1st\n",
      "8  Appleton, Mrs. Edward Dale (Cha      yes  female  53.0000            1st\n",
      "9          Artagaveytia, Mr. Ramon       no    male  71.0000            1st\n"
     ]
    }
   ],
   "source": [
    "# Checking first 10 rows of dataframe \n",
    "print(titanic.head(10))"
   ]
  },
  {
   "cell_type": "code",
   "execution_count": 58,
   "id": "a362f2b6",
   "metadata": {},
   "outputs": [
    {
     "data": {
      "text/plain": [
       "Name                0\n",
       "survived            0\n",
       "sex                 0\n",
       "age               263\n",
       "passengerClass      0\n",
       "dtype: int64"
      ]
     },
     "execution_count": 58,
     "metadata": {},
     "output_type": "execute_result"
    }
   ],
   "source": [
    "titanic.isnull().sum()"
   ]
  },
  {
   "cell_type": "markdown",
   "id": "c224ea4e",
   "metadata": {},
   "source": [
    "## a) Number of passengers on titanic. "
   ]
  },
  {
   "cell_type": "code",
   "execution_count": 59,
   "id": "7339ec51",
   "metadata": {},
   "outputs": [
    {
     "name": "stdout",
     "output_type": "stream",
     "text": [
      "Passengers in titanic : 1309\n"
     ]
    }
   ],
   "source": [
    "print('Passengers in titanic : ',end = '') \n",
    "print(df.shape[0])"
   ]
  },
  {
   "cell_type": "markdown",
   "id": "7cb65397",
   "metadata": {},
   "source": [
    "## b. Male and Female passengers count"
   ]
  },
  {
   "cell_type": "code",
   "execution_count": 60,
   "id": "f21e92e3",
   "metadata": {},
   "outputs": [
    {
     "name": "stdout",
     "output_type": "stream",
     "text": [
      "Number of male and female passengers\n",
      "male      843\n",
      "female    466\n",
      "Name: sex, dtype: int64\n"
     ]
    }
   ],
   "source": [
    "print('Number of male and female passengers') \n",
    "print(titanic['sex'].value_counts())"
   ]
  },
  {
   "cell_type": "markdown",
   "id": "31c6f6fb",
   "metadata": {},
   "source": [
    "## c. Average age of all passengers"
   ]
  },
  {
   "cell_type": "code",
   "execution_count": 61,
   "id": "7959b50a",
   "metadata": {},
   "outputs": [
    {
     "name": "stdout",
     "output_type": "stream",
     "text": [
      "Avarage age of all passengers: 29.88\n"
     ]
    }
   ],
   "source": [
    "print('Avarage age of all passengers:',end=' ') \n",
    "print(round(titanic['age'].mean(),2))"
   ]
  },
  {
   "cell_type": "markdown",
   "id": "f0fb3838",
   "metadata": {},
   "source": [
    "## d. Number of passengers of age less than 21 years"
   ]
  },
  {
   "cell_type": "code",
   "execution_count": 62,
   "id": "cbd05121",
   "metadata": {},
   "outputs": [
    {
     "name": "stdout",
     "output_type": "stream",
     "text": [
      "Total number of passengers of age less than 21: 249\n"
     ]
    }
   ],
   "source": [
    "print('Total number of passengers of age less than 21:',end=' ') \n",
    "print(titanic[titanic['age'] < 21].shape[0])"
   ]
  },
  {
   "cell_type": "markdown",
   "id": "fedbb99a",
   "metadata": {},
   "source": [
    "## e. Number of male & female who survived and not survived"
   ]
  },
  {
   "cell_type": "code",
   "execution_count": 63,
   "id": "50d1449d",
   "metadata": {},
   "outputs": [
    {
     "name": "stdout",
     "output_type": "stream",
     "text": [
      "Number of people who survived and not survived\n",
      "no     809\n",
      "yes    500\n",
      "Name: survived, dtype: int64\n",
      "Number of males and females who survived and not survived :\n",
      "survived  sex   \n",
      "no        female    127\n",
      "          male      682\n",
      "yes       female    339\n",
      "          male      161\n",
      "dtype: int64\n"
     ]
    }
   ],
   "source": [
    "print('Number of people who survived and not survived')\n",
    "print(titanic['survived'].value_counts())\n",
    "\n",
    "print('Number of males and females who survived and not survived :') \n",
    "print(titanic.groupby(['survived', 'sex']).size())"
   ]
  },
  {
   "cell_type": "markdown",
   "id": "49e839a3",
   "metadata": {},
   "source": [
    "##  f. The youngest age and the oldest age of the passenger who survived."
   ]
  },
  {
   "cell_type": "code",
   "execution_count": 64,
   "id": "63226733",
   "metadata": {},
   "outputs": [
    {
     "name": "stdout",
     "output_type": "stream",
     "text": [
      "Youngest age of survived : 0.166700006\n",
      "Oldest age of survived : 80.0\n",
      "Name of yongest survived passenger:\n",
      "763    Dean, Miss. Elizabeth Gladys M\n",
      "Name: Name, dtype: object\n",
      "Name of oldest survived passenger:\n",
      "14    Barkworth, Mr. Algernon Henry W\n",
      "Name: Name, dtype: object\n"
     ]
    }
   ],
   "source": [
    "print('Youngest age of survived :',end=' ')\n",
    "print(titanic[titanic['survived'] == 'yes']['age'].min())\n",
    "print('Oldest age of survived :',end=' ')\n",
    "print(titanic[titanic['survived'] == 'yes']['age'].max())\n",
    "x = titanic[titanic['survived'] == 'yes']['age'].min()\n",
    "y = titanic[titanic['survived'] == 'yes']['age'].max()\n",
    "print('Name of yongest survived passenger:') \n",
    "print(titanic[titanic['age']==x]['Name']) \n",
    "print('Name of oldest survived passenger:') \n",
    "print(titanic[titanic['age']==y]['Name'])"
   ]
  },
  {
   "cell_type": "markdown",
   "id": "593cc345",
   "metadata": {},
   "source": [
    "## g. List of passengers who survived. "
   ]
  },
  {
   "cell_type": "code",
   "execution_count": 65,
   "id": "af9b2e89",
   "metadata": {},
   "outputs": [
    {
     "name": "stdout",
     "output_type": "stream",
     "text": [
      "Name of all passengers who survived\n",
      "0         Allen, Miss. Elisabeth Walton\n",
      "1        Allison, Master. Hudson Trevor\n",
      "5                   Anderson, Mr. Harry\n",
      "6       Andrews, Miss. Kornelia Theodos\n",
      "8       Appleton, Mrs. Edward Dale (Cha\n",
      "                     ...               \n",
      "1261             Turkula, Mrs. (Hedwig)\n",
      "1277               Vartanian, Mr. David\n",
      "1286    Whabee, Mrs. George Joseph (Sha\n",
      "1290    Wilkes, Mrs. James (Ellen Needs\n",
      "1300    Yasbeck, Mrs. Antoni (Selini Al\n",
      "Name: Name, Length: 500, dtype: object\n"
     ]
    }
   ],
   "source": [
    "print('Name of all passengers who survived') \n",
    "print(titanic[titanic['survived'] =='yes']['Name'])"
   ]
  }
 ],
 "metadata": {
  "kernelspec": {
   "display_name": "Python 3 (ipykernel)",
   "language": "python",
   "name": "python3"
  },
  "language_info": {
   "codemirror_mode": {
    "name": "ipython",
    "version": 3
   },
   "file_extension": ".py",
   "mimetype": "text/x-python",
   "name": "python",
   "nbconvert_exporter": "python",
   "pygments_lexer": "ipython3",
   "version": "3.9.7"
  }
 },
 "nbformat": 4,
 "nbformat_minor": 5
}
