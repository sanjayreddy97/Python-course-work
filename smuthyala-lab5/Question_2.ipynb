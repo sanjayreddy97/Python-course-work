{
 "cells": [
  {
   "cell_type": "code",
   "execution_count": 97,
   "id": "1e493b14",
   "metadata": {},
   "outputs": [
    {
     "data": {
      "text/plain": [
       "'\\nProgram to plot time for different sorting techniques\\nAuthor: Sanjay Reddy Muthyala\\n'"
      ]
     },
     "execution_count": 97,
     "metadata": {},
     "output_type": "execute_result"
    }
   ],
   "source": [
    "'''\n",
    "Program to plot time for different sorting techniques\n",
    "Author: Sanjay Reddy Muthyala\n",
    "'''"
   ]
  },
  {
   "cell_type": "code",
   "execution_count": 98,
   "id": "87c4a3a3",
   "metadata": {},
   "outputs": [],
   "source": [
    "import time\n",
    "import random\n",
    "import matplotlib.pyplot as plt"
   ]
  },
  {
   "cell_type": "code",
   "execution_count": 99,
   "id": "190bb597",
   "metadata": {},
   "outputs": [],
   "source": [
    "#function to generate random integer\n",
    "def random_int(i):\n",
    "    my_list = []\n",
    "    for j in range(0,i*10000):\n",
    "        end = i*10000\n",
    "        x = random.randint(1,end)\n",
    "        my_list.append(x)\n",
    "    return(my_list)"
   ]
  },
  {
   "cell_type": "code",
   "execution_count": 100,
   "id": "b6906573",
   "metadata": {},
   "outputs": [],
   "source": [
    "#function to demonstrate bubble sort algorithm\n",
    "def bubble(my_list):\n",
    "    #iteration loop\n",
    "    for n in range(len(my_list)-1, 0, -1):\n",
    "        #looping through the list\n",
    "        for i in range(n):\n",
    "            if my_list[i] > my_list[i + 1]:\n",
    "                #swap the highest & lowest numbers\n",
    "                my_list[i], my_list[i + 1] = my_list[i + 1], my_list[i]\n",
    "    return my_list"
   ]
  },
  {
   "cell_type": "code",
   "execution_count": 101,
   "id": "decb1e39",
   "metadata": {},
   "outputs": [],
   "source": [
    "#function to demonstrate shell sort alorithm\n",
    "def shell(my_list):\n",
    "    # Start with a big gap, then reduce the gap\n",
    "    n = len(my_list)\n",
    "    gap = (int)(n/2)\n",
    "  \n",
    "    # order keep adding one more element until the entire array\n",
    "    while gap > 0:\n",
    "        for i in range(gap,n):\n",
    "  \n",
    "            # add a[i] to the elements that have been gap sorted\n",
    "            # save a[i] in temp and make a hole at position i\n",
    "            temp = my_list[i]\n",
    "  \n",
    "            # shift earlier gap-sorted elements up until the correct\n",
    "            # location for a[i] is found\n",
    "            j = i\n",
    "            while  j >= gap and my_list[j-gap] >temp:\n",
    "                my_list[j] = my_list[j-gap]\n",
    "                j -= gap\n",
    "  \n",
    "            # put temp (the original a[i]) in its correct location\n",
    "            my_list[j] = temp\n",
    "        gap //= 2"
   ]
  },
  {
   "cell_type": "code",
   "execution_count": 102,
   "id": "c5c4f5f2",
   "metadata": {},
   "outputs": [],
   "source": [
    "#function demonstrating quick sort algorithm\n",
    "def partition(my_list, low, high):\n",
    "    i = (low-1)\n",
    "    pivot = my_list[high] \n",
    "    for j in range(low, high):\n",
    "        if my_list[j] <= pivot:\n",
    "            i = i+1\n",
    "            my_list[i], my_list[j] = my_list[j], my_list[i]\n",
    "    my_list[i+1], my_list[high] = my_list[high], my_list[i+1]\n",
    "    return (i+1)\n",
    "\n",
    "def quick(my_list, low, high):\n",
    "    if low < high:\n",
    "        pi = partition(my_list, low, high)\n",
    "        quick(my_list, low, pi-1)\n",
    "        quick(my_list, pi+1, high)    \n",
    "    return my_list\n",
    "    "
   ]
  },
  {
   "cell_type": "code",
   "execution_count": 103,
   "id": "59b1c07c",
   "metadata": {},
   "outputs": [],
   "source": [
    "def bubble_lineGraph(bubble_res,x_coords):\n",
    "    y_coords = bubble_res\n",
    "    fig, ax = plt.subplots()\n",
    "    ax.plot(x_coords,y_coords)\n",
    "    plt.xticks(x_coords)\n",
    "    #set y-axis label\n",
    "    ax.set_ylabel(\"Time(in seconds)\")\n",
    "    #set x-axis label\n",
    "    ax.set_xlabel(\"Range\")\n",
    "    #set title\n",
    "    plt.title(\"Bubble Sort time\")"
   ]
  },
  {
   "cell_type": "code",
   "execution_count": 104,
   "id": "0e62f0bf",
   "metadata": {},
   "outputs": [],
   "source": [
    "def shell_lineGraph(shell_res,x_coords):\n",
    "    y_coords = shell_res\n",
    "    fig, ax = plt.subplots()\n",
    "    ax.plot(x_coords,y_coords)\n",
    "    plt.xticks(x_coords)\n",
    "    #set y-axis label\n",
    "    ax.set_ylabel(\"Time(in seconds)\")\n",
    "    #set x-axis label\n",
    "    ax.set_xlabel(\"Range\")\n",
    "    #set title\n",
    "    plt.title(\"Shell Sort time\")"
   ]
  },
  {
   "cell_type": "code",
   "execution_count": 105,
   "id": "71033b95",
   "metadata": {},
   "outputs": [],
   "source": [
    "def quick_lineGraph(quick_res,x_coords):\n",
    "    y_coords = quick_res\n",
    "    fig, ax = plt.subplots()\n",
    "    ax.plot(x_coords,y_coords)\n",
    "    plt.xticks(x_coords)\n",
    "    #set y-axis label\n",
    "    ax.set_ylabel(\"Time(in seconds)\")\n",
    "    #set x-axis label\n",
    "    ax.set_xlabel(\"Range\")\n",
    "    #set title\n",
    "    plt.title(\"Quick Sort time\")"
   ]
  },
  {
   "cell_type": "code",
   "execution_count": 106,
   "id": "8876b1b8",
   "metadata": {},
   "outputs": [
    {
     "name": "stdout",
     "output_type": "stream",
     "text": [
      "Bubble sort time: [7.12, 64.64, 181.66, 374.87, 624.31]\n",
      "shell sort time: [0.04, 0.16, 0.33, 0.44, 0.64]\n",
      "Quick sort time: [0.02, 0.07, 0.12, 0.18, 0.24]\n"
     ]
    },
    {
     "data": {
      "image/png": "[encoded data removed]",
      "text/plain": [
       "<Figure size 432x288 with 1 Axes>"
      ]
     },
     "metadata": {
      "needs_background": "light"
     },
     "output_type": "display_data"
    },
    {
     "data": {
      "image/png": "[encoded data removed]",
      "text/plain": [
       "<Figure size 432x288 with 1 Axes>"
      ]
     },
     "metadata": {
      "needs_background": "light"
     },
     "output_type": "display_data"
    },
    {
     "data": {
      "image/png": "[encoded data removed]",
      "text/plain": [
       "<Figure size 432x288 with 1 Axes>"
      ]
     },
     "metadata": {
      "needs_background": "light"
     },
     "output_type": "display_data"
    }
   ],
   "source": [
    "#main function \n",
    "def main():\n",
    "    bubble_res = []\n",
    "    sort_list = []\n",
    "    shell_res = []\n",
    "    quick_res = []\n",
    "    \n",
    "    def absolute_value(total_time):\n",
    "        return round(total_time, 2)\n",
    "    \n",
    "    for i in range(1,10,2):\n",
    "        rand_int_list = random_int(i)\n",
    "        start_time = time.time()\n",
    "        bubble(rand_int_list)\n",
    "        total_time = time.time() - start_time\n",
    "        total_time = absolute_value(total_time)\n",
    "        bubble_res.append(total_time)\n",
    "    print(\"Bubble sort time:\",bubble_res)\n",
    "    \n",
    "    #for loop\n",
    "    for i in range(1,10,2):\n",
    "        rand_int_list = random_int(i)\n",
    "        start_time = time.time()\n",
    "        shell(rand_int_list)\n",
    "        total_time = time.time() - start_time\n",
    "        total_time = absolute_value(total_time)\n",
    "        shell_res.append(total_time)\n",
    "    print(\"shell sort time:\", shell_res)   \n",
    "    \n",
    "    for i in range(1,10,2):\n",
    "        rand_int_list = random_int(i)\n",
    "        start_time = time.time()\n",
    "        quick(rand_int_list,0,len(rand_int_list)-1)\n",
    "        total_time = time.time() - start_time\n",
    "        total_time = absolute_value(total_time)\n",
    "        quick_res.append(total_time)\n",
    "    print(\"Quick sort time:\", quick_res) \n",
    "        \n",
    "    x_coords = []\n",
    "    for i in range(1,10,2):\n",
    "        x_coords.append(i*10000)\n",
    "        \n",
    "    bubble_lineGraph(bubble_res,x_coords)\n",
    "    shell_lineGraph(shell_res,x_coords)\n",
    "    quick_lineGraph(quick_res,x_coords)\n",
    "    \n",
    "main()"
   ]
  },
  {
   "cell_type": "code",
   "execution_count": null,
   "id": "71b93b1f",
   "metadata": {},
   "outputs": [],
   "source": []
  }
 ],
 "metadata": {
  "kernelspec": {
   "display_name": "Python 3 (ipykernel)",
   "language": "python",
   "name": "python3"
  },
  "language_info": {
   "codemirror_mode": {
    "name": "ipython",
    "version": 3
   },
   "file_extension": ".py",
   "mimetype": "text/x-python",
   "name": "python",
   "nbconvert_exporter": "python",
   "pygments_lexer": "ipython3",
   "version": "3.9.7"
  }
 },
 "nbformat": 4,
 "nbformat_minor": 5
}
