{
 "cells": [
  {
   "cell_type": "code",
   "execution_count": 1,
   "id": "895444a1",
   "metadata": {},
   "outputs": [],
   "source": [
    "import sqlite3\n",
    "import pandas as pd"
   ]
  },
  {
   "cell_type": "code",
   "execution_count": 6,
   "id": "abb51503",
   "metadata": {},
   "outputs": [
    {
     "name": "stdout",
     "output_type": "stream",
     "text": [
      "  lastname\n",
      "0     Wald\n",
      "1    Quirk\n",
      "2   Deitel\n",
      "3   Deitel\n",
      "4   Deitel\n"
     ]
    }
   ],
   "source": [
    "connection = sqlite3.connect('books.db')\n",
    "\n",
    "print(pd.read_sql(\"\"\"SELECT last AS lastname FROM Authors ORDER BY last DESC\"\"\", connection))"
   ]
  },
  {
   "cell_type": "code",
   "execution_count": 7,
   "id": "da74b1ac",
   "metadata": {},
   "outputs": [
    {
     "name": "stdout",
     "output_type": "stream",
     "text": [
      "                             titles\n",
      "0         Android 6 for Programmers\n",
      "1            Android How to Program\n",
      "2                  C How to Program\n",
      "3                C++ How to Program\n",
      "4     Internet & WWW How to Program\n",
      "5     Intro to Python for CS and DS\n",
      "6               Java How to Program\n",
      "7  Visual Basic 2012 How to Program\n",
      "8          Visual C# How to Program\n",
      "9         Visual C++ How to Program\n"
     ]
    }
   ],
   "source": [
    "print(pd.read_sql(\"\"\"SELECT title AS titles FROM titles ORDER BY title\"\"\", connection))"
   ]
  },
  {
   "cell_type": "code",
   "execution_count": 8,
   "id": "97b374de",
   "metadata": {},
   "outputs": [
    {
     "name": "stdout",
     "output_type": "stream",
     "text": [
      "  first    last                             title copyright        isbn\n",
      "0  Paul  Deitel         Android 6 for Programmers      2016  0134289366\n",
      "1  Paul  Deitel            Android How to Program      2017  0134444302\n",
      "2  Paul  Deitel                  C How to Program      2016  0133976890\n",
      "3  Paul  Deitel                C++ How to Program      2017  0134448235\n",
      "4  Paul  Deitel     Internet & WWW How to Program      2012  0132151006\n",
      "5  Paul  Deitel     Intro to Python for CS and DS      2020  0135404673\n",
      "6  Paul  Deitel               Java How to Program      2018  0134743350\n",
      "7  Paul  Deitel  Visual Basic 2012 How to Program      2014  0133406954\n",
      "8  Paul  Deitel          Visual C# How to Program      2017  0134601548\n",
      "9  Paul  Deitel         Visual C++ How to Program      2008  0136151574\n"
     ]
    }
   ],
   "source": [
    "print(pd.read_sql(\"\"\"select first,last,title,copyright,author_ISBN.isbn\n",
    "                  from author_ISBN\n",
    "                  inner join titles on titles.isbn = author_ISBN.isbn\n",
    "                  inner join authors on authors.id = author_ISBN.id\n",
    "                  where first='Paul'\n",
    "                  order by titles.title\"\"\", connection))"
   ]
  },
  {
   "cell_type": "code",
   "execution_count": 9,
   "id": "2f0c4509",
   "metadata": {},
   "outputs": [
    {
     "name": "stdout",
     "output_type": "stream",
     "text": [
      "   id      first    last\n",
      "0   1       Paul  Deitel\n",
      "1   2     Harvey  Deitel\n",
      "2   3      Abbey  Deitel\n",
      "3   4        Dan   Quirk\n",
      "4   5  Alexander    Wald\n",
      "5   6    Rowling      JK\n"
     ]
    }
   ],
   "source": [
    "cursor = connection.cursor()\n",
    "\n",
    "cursor = cursor.execute(\"\"\"INSERT INTO authors (first, last) VALUES ('Rowling', 'JK')\"\"\")\n",
    "\n",
    "print(pd.read_sql('SELECT id, first, last FROM authors',connection))"
   ]
  },
  {
   "cell_type": "code",
   "execution_count": 10,
   "id": "f8ffaea5",
   "metadata": {},
   "outputs": [
    {
     "name": "stdout",
     "output_type": "stream",
     "text": [
      "         isbn         title  edition copyright\n",
      "0  1439139600  Harry Potter        1      2005\n"
     ]
    }
   ],
   "source": [
    "cursor = cursor.execute(\"\"\"INSERT INTO author_ISBN (id,isbn) VALUES (26,'1439139600')\"\"\")\n",
    "cursor = cursor.execute(\"\"\"INSERT INTO titles (isbn,title,edition,copyright) VALUES ('1439139600','Harry Potter',1,'2005')\"\"\")\n",
    "\n",
    "print(pd.read_sql(\"\"\"SELECT isbn,title,edition,copyright FROM titles where isbn = 1439139600\"\"\",connection))"
   ]
  },
  {
   "cell_type": "code",
   "execution_count": 11,
   "id": "ea5e16c5",
   "metadata": {},
   "outputs": [
    {
     "name": "stdout",
     "output_type": "stream",
     "text": [
      "   id        isbn\n",
      "0  26  1439139600\n"
     ]
    }
   ],
   "source": [
    "print(pd.read_sql('SELECT id,isbn FROM author_ISBN where id = 26',connection))"
   ]
  }
 ],
 "metadata": {
  "kernelspec": {
   "display_name": "Python 3 (ipykernel)",
   "language": "python",
   "name": "python3"
  },
  "language_info": {
   "codemirror_mode": {
    "name": "ipython",
    "version": 3
   },
   "file_extension": ".py",
   "mimetype": "text/x-python",
   "name": "python",
   "nbconvert_exporter": "python",
   "pygments_lexer": "ipython3",
   "version": "3.9.7"
  }
 },
 "nbformat": 4,
 "nbformat_minor": 5
}
