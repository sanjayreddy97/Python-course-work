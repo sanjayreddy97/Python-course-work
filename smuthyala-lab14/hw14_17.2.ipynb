{
 "cells": [
  {
   "cell_type": "code",
   "execution_count": 11,
   "id": "13f86b73",
   "metadata": {},
   "outputs": [],
   "source": [
    "import sqlite3\n",
    "from tabulate import tabulate"
   ]
  },
  {
   "cell_type": "code",
   "execution_count": 15,
   "id": "14fbf3b1",
   "metadata": {},
   "outputs": [],
   "source": [
    "conn = sqlite3.connect('books.db')\n",
    "sql_query = \"\"\"SELECT * from titles\"\"\""
   ]
  },
  {
   "cell_type": "code",
   "execution_count": 16,
   "id": "c506ae64",
   "metadata": {},
   "outputs": [
    {
     "name": "stdout",
     "output_type": "stream",
     "text": [
      "[('0135404673', 'Intro to Python for CS and DS', 1, '2020'), ('0132151006', 'Internet & WWW How to Program', 5, '2012'), ('0134743350', 'Java How to Program', 11, '2018'), ('0133976890', 'C How to Program', 8, '2016'), ('0133406954', 'Visual Basic 2012 How to Program', 6, '2014'), ('0134601548', 'Visual C# How to Program', 6, '2017'), ('0136151574', 'Visual C++ How to Program', 2, '2008'), ('0134448235', 'C++ How to Program', 10, '2017'), ('0134444302', 'Android How to Program', 3, '2017'), ('0134289366', 'Android 6 for Programmers', 3, '2016')]\n"
     ]
    }
   ],
   "source": [
    "cur = conn.cursor()\n",
    "cur.execute(sql_query)\n",
    "book_records = cur.fetchall()\n",
    "print(book_records)"
   ]
  },
  {
   "cell_type": "code",
   "execution_count": 17,
   "id": "64b75f87",
   "metadata": {},
   "outputs": [
    {
     "name": "stdout",
     "output_type": "stream",
     "text": [
      "(('isbn', None, None, None, None, None, None), ('title', None, None, None, None, None, None), ('edition', None, None, None, None, None, None), ('copyright', None, None, None, None, None, None))\n",
      "      isbn  title                               edition    copyright\n",
      "----------  --------------------------------  ---------  -----------\n",
      "0135404673  Intro to Python for CS and DS             1         2020\n",
      "0132151006  Internet & WWW How to Program             5         2012\n",
      "0134743350  Java How to Program                      11         2018\n",
      "0133976890  C How to Program                          8         2016\n",
      "0133406954  Visual Basic 2012 How to Program          6         2014\n",
      "0134601548  Visual C# How to Program                  6         2017\n",
      "0136151574  Visual C++ How to Program                 2         2008\n",
      "0134448235  C++ How to Program                       10         2017\n",
      "0134444302  Android How to Program                    3         2017\n",
      "0134289366  Android 6 for Programmers                 3         2016\n"
     ]
    }
   ],
   "source": [
    "print(cur.description)\n",
    "print(tabulate(records, headers=[\"isbn\", \"title\", \"edition\",\"copyright\"]))"
   ]
  }
 ],
 "metadata": {
  "kernelspec": {
   "display_name": "Python 3 (ipykernel)",
   "language": "python",
   "name": "python3"
  },
  "language_info": {
   "codemirror_mode": {
    "name": "ipython",
    "version": 3
   },
   "file_extension": ".py",
   "mimetype": "text/x-python",
   "name": "python",
   "nbconvert_exporter": "python",
   "pygments_lexer": "ipython3",
   "version": "3.9.7"
  }
 },
 "nbformat": 4,
 "nbformat_minor": 5
}
