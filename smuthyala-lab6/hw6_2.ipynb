{
 "cells": [
  {
   "cell_type": "code",
   "execution_count": 5,
   "id": "bfa1b5ac",
   "metadata": {},
   "outputs": [],
   "source": [
    "import re"
   ]
  },
  {
   "cell_type": "code",
   "execution_count": 9,
   "id": "ebdaedf8",
   "metadata": {},
   "outputs": [
    {
     "name": "stdout",
     "output_type": "stream",
     "text": [
      "Enter Phone number : (312) 776 9099\n",
      "(312) 776 9099\n"
     ]
    }
   ],
   "source": [
    "def phoneNumberFunc():\n",
    "    \n",
    "    #reading string as phone number\n",
    "    s = input(\"Enter Phone number : \")\n",
    "    \n",
    "    # 5551234567\n",
    "    format1 = '\\d{10}'\n",
    "    \n",
    "    #(555) 1234567\n",
    "    format2 = '\\(\\d{3}\\)\\s*\\d{7}'\n",
    "    \n",
    "    #555-123-1234\n",
    "    format3 = '\\d{3}[-]??\\d{3}[-]??\\d{4}'\n",
    "    \n",
    "    #(555) 123 1234\n",
    "    format4 = '\\(\\d{3}\\)\\s*\\d{3}\\s*\\d{4}'\n",
    "    \n",
    "      \n",
    "    if re.findall(format1, s) and len(s)==10:\n",
    "        #print in “(999) 999 9999” format\n",
    "        s = '('+s[0:3]+') '+ s[3:6] +' '+ s[6:10]   \n",
    "        print(s)\n",
    "    \n",
    "    elif re.findall(format2, s) and len(s)==13:\n",
    "        #print in “(999) 999 9999” format\n",
    "        s = '('+s[1:4]+') '+ s[6:9] +' '+ s[9:13]   \n",
    "        print(s)\n",
    "        \n",
    "    elif re.findall(format3, s) and len(s)==12:\n",
    "        #print in “(999) 999 9999” format\n",
    "        s = '('+s[0:3]+') '+ s[4:7] +' '+ s[8:12]    \n",
    "        print(s)\n",
    "    \n",
    "    elif re.findall(format4, s) and len(s)==14:\n",
    "        #print in “(999) 999 9999” format\n",
    "        s = '('+s[1:4]+') '+ s[6:9] +' '+ s[10:14]  \n",
    "        print(s)\n",
    "    \n",
    "    else:\n",
    "        print(\"Entered Invalid Number\")\n",
    "            \n",
    "phoneNumberFunc()"
   ]
  },
  {
   "cell_type": "code",
   "execution_count": null,
   "id": "23a06f05",
   "metadata": {},
   "outputs": [],
   "source": []
  }
 ],
 "metadata": {
  "kernelspec": {
   "display_name": "Python 3 (ipykernel)",
   "language": "python",
   "name": "python3"
  },
  "language_info": {
   "codemirror_mode": {
    "name": "ipython",
    "version": 3
   },
   "file_extension": ".py",
   "mimetype": "text/x-python",
   "name": "python",
   "nbconvert_exporter": "python",
   "pygments_lexer": "ipython3",
   "version": "3.9.7"
  }
 },
 "nbformat": 4,
 "nbformat_minor": 5
}
