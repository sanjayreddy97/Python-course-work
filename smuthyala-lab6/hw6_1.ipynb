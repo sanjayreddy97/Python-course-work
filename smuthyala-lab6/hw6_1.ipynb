{
 "cells": [
  {
   "cell_type": "code",
   "execution_count": 2,
   "id": "5a402ba9",
   "metadata": {},
   "outputs": [
    {
     "name": "stdout",
     "output_type": "stream",
     "text": [
      "\n",
      "dn: uid=username, dc=example, dc=com \n",
      "    cn: firstname lastname\n",
      "    sn: lastname\n",
      "    telephoneNumber: 999-999-9999\n",
      "\n",
      "dn: uid=James07, dc=example, dc=com \n",
      "    cn: James Bond\n",
      "    sn: Bond\n",
      "    telephoneNumber: 007-007-0007\n",
      "\n",
      "dn: uid=harspec21, dc=example, dc=com \n",
      "    cn: harvey specter\n",
      "    sn: specter\n",
      "    telephoneNumber: 312-312-3121\n",
      "\n",
      "dn: uid=rosmik32, dc=example, dc=com \n",
      "    cn: Mike ross\n",
      "    sn: ross\n",
      "    telephoneNumber: 987-654-3210\n"
     ]
    }
   ],
   "source": [
    "def convertLDAP():\n",
    "    template=\"\"\"dn: uid={}, dc=example, dc=com \n",
    "    cn: {} {}\n",
    "    sn: {}\n",
    "    telephoneNumber: {}\"\"\"\n",
    "    \n",
    "    file = 'input.txt'\n",
    "    try:\n",
    "        with open(file) as f:\n",
    "            #f.readline() #uncomment if 1st line is header\n",
    "            for line in f:\n",
    "                print()\n",
    "                un,fn,ln,cn=line.strip().split()\n",
    "                print(template.format(un,fn,ln,ln,cn))\n",
    "    except IOError:\n",
    "        print('Error opening file')\n",
    "                \n",
    "convertLDAP()"
   ]
  },
  {
   "cell_type": "code",
   "execution_count": null,
   "id": "f4d4cfcc",
   "metadata": {},
   "outputs": [],
   "source": []
  }
 ],
 "metadata": {
  "kernelspec": {
   "display_name": "Python 3 (ipykernel)",
   "language": "python",
   "name": "python3"
  },
  "language_info": {
   "codemirror_mode": {
    "name": "ipython",
    "version": 3
   },
   "file_extension": ".py",
   "mimetype": "text/x-python",
   "name": "python",
   "nbconvert_exporter": "python",
   "pygments_lexer": "ipython3",
   "version": "3.9.7"
  }
 },
 "nbformat": 4,
 "nbformat_minor": 5
}
