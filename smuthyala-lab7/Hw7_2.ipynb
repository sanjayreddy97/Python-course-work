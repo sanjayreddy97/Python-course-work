{
 "cells": [
  {
   "cell_type": "code",
   "execution_count": 1,
   "id": "ccfcc940",
   "metadata": {},
   "outputs": [
    {
     "data": {
      "text/plain": [
       "'\\nProgram performs calculations on student grades\\nAuthor: Sanjay Reddy Muthyala\\n'"
      ]
     },
     "execution_count": 1,
     "metadata": {},
     "output_type": "execute_result"
    }
   ],
   "source": [
    "'''\n",
    "Program performs calculations on student grades\n",
    "Author: Sanjay Reddy Muthyala\n",
    "'''"
   ]
  },
  {
   "cell_type": "code",
   "execution_count": 2,
   "id": "65bba2c4",
   "metadata": {},
   "outputs": [],
   "source": [
    "#import libraries\n",
    "import numpy as np\n",
    "import csv\n",
    "import statistics as st\n",
    "import matplotlib.pyplot as plt"
   ]
  },
  {
   "cell_type": "code",
   "execution_count": 3,
   "id": "811123e4",
   "metadata": {},
   "outputs": [],
   "source": [
    "def main():\n",
    "    #open csv file\n",
    "    with open('/Users/sanjayreddy/Desktop/Student_Grades.csv', 'r') as f:\n",
    "        grades = list(csv.reader(f, delimiter = ','))\n",
    "\n",
    "    grades = np.array(grades[1:], dtype=float) #skip first row\n",
    "\n",
    "    print(grades)\n",
    "    print('Number of students: ',grades.shape[0])\n",
    "    print('Number of rows: ',grades.shape[0], 'Number of columns: ',grades.shape[1])\n",
    "    #Array Datatype\n",
    "    print('Array data type: ',grades.dtype)\n",
    "\n",
    "    print('\\nDescriptive statistics of students')\n",
    "    #Minimum score\n",
    "    print('Minimum score: ',grades[:,31].min())\n",
    "    #Maximum score\n",
    "    print('Maximum score: ',grades[:,31].max())\n",
    "    #Mean value\n",
    "    print('Mean score: ',grades[:,31].mean())\n",
    "    #Median value\n",
    "    print('Median score: ',st.median(grades[:,31]))\n",
    "    #Standara deviation\n",
    "    print('Standard deviation: ', grades[:,31].std())\n",
    "    #25 percentile value\n",
    "    print('25 Percentile : ',np.percentile(grades[:,31],25))\n",
    "    #75 percentile value\n",
    "    print('75 Percentile : ',np.percentile(grades[:,31],75))\n",
    "    count(grades)"
   ]
  },
  {
   "cell_type": "code",
   "execution_count": 4,
   "id": "aa17430b",
   "metadata": {},
   "outputs": [],
   "source": [
    "def count(grades):\n",
    "    #Initialize variables\n",
    "    countA = 0\n",
    "    countB = 0\n",
    "    countC = 0\n",
    "    countD = 0\n",
    "    countF = 0\n",
    "    for x in grades[:,31]:\n",
    "        if(x > 90.0):\n",
    "            countA += 1\n",
    "        elif(x > 80.0):\n",
    "            countB += 1\n",
    "        elif(x > 70.0):\n",
    "            countC += 1\n",
    "        elif(x > 60.0):\n",
    "            countD += 1\n",
    "        else:\n",
    "            countF += 1\n",
    "    \n",
    "    print('\\n Number of students achieved in each grade category')\n",
    "    #Number of students with grade A\n",
    "    print(countA ,'A')\n",
    "    #Number of students with grade B\n",
    "    print(countB ,'B')\n",
    "    #Number of students with grade C\n",
    "    print(countC ,'C')\n",
    "    #Number of students with grade D\n",
    "    print(countD ,'D')\n",
    "    #Number of students with grade F\n",
    "    print(countF ,'F')\n",
    "    \n",
    "    #x_coords for pie chart\n",
    "    x_coords = [countA,countB,countC,countD,countF]\n",
    "    #function call with x_coords as parameters\n",
    "    piechart(x_coords)"
   ]
  },
  {
   "cell_type": "code",
   "execution_count": 5,
   "id": "c9299aec",
   "metadata": {},
   "outputs": [],
   "source": [
    "def piechart(x_coords):\n",
    "    y_coords = [\"A std\",\"B std\",\"C std\",\"D std\",\"F std\"]\n",
    "    #plotting pie chart\n",
    "    plt.pie(x_coords,labels = y_coords)\n",
    "    #set title\n",
    "    plt.title('Student Performance Pie Chart')\n",
    "    plt.show()"
   ]
  },
  {
   "cell_type": "code",
   "execution_count": 6,
   "id": "eebbe5cc",
   "metadata": {},
   "outputs": [
    {
     "name": "stdout",
     "output_type": "stream",
     "text": [
      "[[  15.        50.        50.      ...  207.      1442.        94.1868 ]\n",
      " [  15.        50.        50.      ...  197.      1322.        86.34879]\n",
      " [  15.        50.        50.      ...  210.      1510.        98.62834]\n",
      " ...\n",
      " [  15.        50.        50.      ...  200.      1374.        89.74526]\n",
      " [  15.        50.        50.      ...  195.      1287.        84.0627 ]\n",
      " [  15.        50.        50.      ...  210.      1490.        97.32201]]\n",
      "Number of students:  33\n",
      "Number of rows:  33 Number of columns:  32\n",
      "Array data type:  float64\n",
      "\n",
      "Descriptive statistics of students\n",
      "Minimum score:  29.65382\n",
      "Maximum score:  99.86936\n",
      "Mean score:  87.66996787878789\n",
      "Median score:  92.88047\n",
      "Standard deviation:  15.553686425410683\n",
      "25 Percentile :  87.1979\n",
      "75 Percentile :  96.73416\n",
      "\n",
      " Number of students achieved in each grade category\n",
      "21 A\n",
      "8 B\n",
      "1 C\n",
      "1 D\n",
      "2 F\n"
     ]
    },
    {
     "data": {
      "image/png": "[encoded data removed]",
      "text/plain": [
       "<Figure size 432x288 with 1 Axes>"
      ]
     },
     "metadata": {},
     "output_type": "display_data"
    }
   ],
   "source": [
    "main()"
   ]
  },
  {
   "cell_type": "code",
   "execution_count": null,
   "id": "0dc9b205",
   "metadata": {},
   "outputs": [],
   "source": []
  }
 ],
 "metadata": {
  "kernelspec": {
   "display_name": "Python 3 (ipykernel)",
   "language": "python",
   "name": "python3"
  },
  "language_info": {
   "codemirror_mode": {
    "name": "ipython",
    "version": 3
   },
   "file_extension": ".py",
   "mimetype": "text/x-python",
   "name": "python",
   "nbconvert_exporter": "python",
   "pygments_lexer": "ipython3",
   "version": "3.9.7"
  }
 },
 "nbformat": 4,
 "nbformat_minor": 5
}
