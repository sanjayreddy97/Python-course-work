{
 "cells": [
  {
   "cell_type": "code",
   "execution_count": 12,
   "id": "5760be63",
   "metadata": {},
   "outputs": [
    {
     "data": {
      "text/plain": [
       "'\\nProgram creates an array & uses indexing and slicing techniques to perform basic operations\\nAuthor: Sanjay Reddy Muthyala\\n'"
      ]
     },
     "execution_count": 12,
     "metadata": {},
     "output_type": "execute_result"
    }
   ],
   "source": [
    "'''\n",
    "Program creates an array & uses indexing and slicing techniques to perform basic operations\n",
    "Author: Sanjay Reddy Muthyala\n",
    "'''"
   ]
  },
  {
   "cell_type": "code",
   "execution_count": 13,
   "id": "a98c3010",
   "metadata": {},
   "outputs": [],
   "source": [
    "import numpy as np"
   ]
  },
  {
   "cell_type": "code",
   "execution_count": 16,
   "id": "7dd54cbe",
   "metadata": {},
   "outputs": [
    {
     "name": "stdout",
     "output_type": "stream",
     "text": [
      "Array after reshaping: \n",
      " [[ 1  2  3  4  5]\n",
      " [ 6  7  8  9 10]\n",
      " [11 12 13 14 15]]\n",
      "\n",
      "Elememts at row 2:  [11 12 13 14 15]\n",
      "\n",
      "Elements at column 4:  [ 5 10 15]\n",
      "\n",
      "Elements at rows 0 and 1:  [[ 1  2  3  4  5]\n",
      " [ 6  7  8  9 10]]\n",
      "\n",
      "Elememts at columns 2-4:  [[ 3  4  5]\n",
      " [ 8  9 10]\n",
      " [13 14 15]]\n",
      "\n",
      "Element at row 1 and column 4:  10\n",
      "\n",
      "Elements at row 1 and 2 that are in column 0:  [ 6 11]\n",
      "\n",
      "Elements at row 1 and 2 that are in column 2:  [ 8 13]\n",
      "\n",
      "Elements at row 1 and 2 that are in column 4:  [10 15]\n"
     ]
    }
   ],
   "source": [
    "def main():\n",
    "    #creating an array of len 15.\n",
    "    arr = np.arange(1,16)\n",
    "    #Reshaping into 3-by-5 array.\n",
    "    arr = arr.reshape(3,5)\n",
    "    print('Array after reshaping: \\n',arr)\n",
    "    #numbers at row 2.\n",
    "    print('\\nElememts at row 2: ',arr[2,:])\n",
    "    #numbers at column 4.\n",
    "    print('\\nElements at column 4: ',arr[:,4])\n",
    "    #numbers at rows 0 and 1\n",
    "    print('\\nElements at rows 0 and 1: ',arr[0:2,:])\n",
    "    #numbers at columns 2-4.\n",
    "    print('\\nElememts at columns 2-4: ',arr[:,2:5])\n",
    "    #number at row 1 and column 4\n",
    "    print('\\nElement at row 1 and column 4: ',arr[1,4])\n",
    "    \n",
    "    #select element in rows 1 and 2 that are in columns 0,2 and 4\n",
    "    print('\\nElements at row 1 and 2 that are in column 0: ',arr[1:3,0])\n",
    "    print('\\nElements at row 1 and 2 that are in column 2: ',arr[1:3,2])\n",
    "    print('\\nElements at row 1 and 2 that are in column 4: ',arr[1:3,4])\n",
    "main()"
   ]
  },
  {
   "cell_type": "code",
   "execution_count": null,
   "id": "3a21057e",
   "metadata": {},
   "outputs": [],
   "source": []
  }
 ],
 "metadata": {
  "kernelspec": {
   "display_name": "Python 3 (ipykernel)",
   "language": "python",
   "name": "python3"
  },
  "language_info": {
   "codemirror_mode": {
    "name": "ipython",
    "version": 3
   },
   "file_extension": ".py",
   "mimetype": "text/x-python",
   "name": "python",
   "nbconvert_exporter": "python",
   "pygments_lexer": "ipython3",
   "version": "3.9.7"
  }
 },
 "nbformat": 4,
 "nbformat_minor": 5
}
