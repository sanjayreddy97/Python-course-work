{
 "cells": [
  {
   "cell_type": "code",
   "execution_count": 33,
   "id": "73effa23",
   "metadata": {},
   "outputs": [
    {
     "data": {
      "text/plain": [
       "'\\nfunctions to calculate subtotal and total prices \\nAuthor: Sanjay Reddy Muthyala\\n'"
      ]
     },
     "execution_count": 33,
     "metadata": {},
     "output_type": "execute_result"
    }
   ],
   "source": [
    "'''\n",
    "functions to calculate subtotal and total prices \n",
    "Author: Sanjay Reddy Muthyala\n",
    "'''"
   ]
  },
  {
   "cell_type": "code",
   "execution_count": 34,
   "id": "db6eb3d6",
   "metadata": {},
   "outputs": [],
   "source": [
    "def sellitems(initial_prices):\n",
    "    #spliting the prices\n",
    "    pricelist = initial_prices.split()\n",
    "    lst = [eval(x) for x in pricelist]\n",
    "    #calculting sub-total\n",
    "    subtotal = sum(lst)\n",
    "    print(\"Subtotal of prices: \",subtotal)\n",
    "    cal_tax(subtotal)"
   ]
  },
  {
   "cell_type": "code",
   "execution_count": 35,
   "id": "4af464a3",
   "metadata": {},
   "outputs": [],
   "source": [
    "def cal_tax(subtotal):\n",
    "    #sales-tax\n",
    "    sales_tax = 7\n",
    "    #tax-amount\n",
    "    tax_amount = (subtotal/100) * sales_tax\n",
    "    print(\"Tax amount:\",format(tax_amount,'.2f'))\n",
    "    cal_total(subtotal,tax_amount)"
   ]
  },
  {
   "cell_type": "code",
   "execution_count": 36,
   "id": "e8244d7a",
   "metadata": {},
   "outputs": [],
   "source": [
    "def cal_total(subtotal,tax_amount):\n",
    "    total_price = subtotal + tax_amount\n",
    "    print(\"Total price:\", format(total_price,'.2f'))"
   ]
  }
 ],
 "metadata": {
  "kernelspec": {
   "display_name": "Python 3 (ipykernel)",
   "language": "python",
   "name": "python3"
  },
  "language_info": {
   "codemirror_mode": {
    "name": "ipython",
    "version": 3
   },
   "file_extension": ".py",
   "mimetype": "text/x-python",
   "name": "python",
   "nbconvert_exporter": "python",
   "pygments_lexer": "ipython3",
   "version": "3.9.7"
  }
 },
 "nbformat": 4,
 "nbformat_minor": 5
}
