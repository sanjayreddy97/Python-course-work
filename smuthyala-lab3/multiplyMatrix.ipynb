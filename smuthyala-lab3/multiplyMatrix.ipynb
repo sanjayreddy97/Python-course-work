{
 "cells": [
  {
   "cell_type": "code",
   "execution_count": null,
   "id": "fe304d8a",
   "metadata": {},
   "outputs": [],
   "source": [
    "'''\n",
    "Program to calculate matrix multiplication\n",
    "Author: Sanjay Reddy Muthyala\n",
    "'''"
   ]
  },
  {
   "cell_type": "code",
   "execution_count": null,
   "id": "c525140c",
   "metadata": {},
   "outputs": [
    {
     "name": "stdout",
     "output_type": "stream",
     "text": [
      "Enter matrix1: 1 2 3 4 5 6 7 8 9\n",
      "[1.0, 2.0, 3.0]\n",
      "[4.0, 5.0, 6.0]\n",
      "[7.0, 8.0, 9.0]\n"
     ]
    }
   ],
   "source": [
    "def multiplyMatrix():\n",
    "    #user inputs 1st matrix\n",
    "    initial_lst1 = input(\"Enter matrix1: \")\n",
    "    l1 = initial_lst1.split()\n",
    "    lst1 = [eval(x) for x in l1]\n",
    "    #matrix initialization\n",
    "    mat1 = [[[] for i in range(3)] for i in range(3)]\n",
    "    a = 0\n",
    "    #mapping list to matrix\n",
    "    for i in range(0,3):\n",
    "        for j in range(0,3):\n",
    "            mat1[i][j] = float(lst1[a])\n",
    "            a+= 1\n",
    "    for row in mat1:\n",
    "        print(row)\n",
    "    #user inputs 2nd matrix\n",
    "    initial_lst2 = input(\"Enter matrix2: \")\n",
    "    l2 = initial_lst2.split()\n",
    "    lst2 = [eval(x) for x in l2]\n",
    "    #matrix initialization\n",
    "    mat2 = [[[] for i in range(3)] for i in range(3)]\n",
    "    b = 0\n",
    "    #mapping list to matrix\n",
    "    for i in range(0,3):\n",
    "        for j in range(0,3):\n",
    "            mat2[i][j] = float(lst2[b])\n",
    "            b+= 1\n",
    "    for row in mat2:\n",
    "        print(row)\n",
    "    #result matrix\n",
    "    result = []\n",
    "    for i in range(3):\n",
    "        row = []\n",
    "        for j in range(3):\n",
    "            row.append(0)\n",
    "        result.append(row)\n",
    "    print(\"The Multiplication of matrices is: \")\n",
    "    # explicit for loops\n",
    "    for i in range(3):\n",
    "        for j in range(3):\n",
    "            for k in range(3) :\n",
    "                #resulted matrix\n",
    "                result[i][j] += mat1[i][k] * mat2[k][j]\n",
    "                result[i][j] = float(\"{:.2f}\".format(result[i][j]))\n",
    "    # print result matrix\n",
    "    for row in result:\n",
    "        print(row)\n",
    "        \n",
    "multiplyMatrix()"
   ]
  },
  {
   "cell_type": "code",
   "execution_count": null,
   "id": "bbc20773",
   "metadata": {},
   "outputs": [],
   "source": []
  }
 ],
 "metadata": {
  "kernelspec": {
   "display_name": "Python 3 (ipykernel)",
   "language": "python",
   "name": "python3"
  },
  "language_info": {
   "codemirror_mode": {
    "name": "ipython",
    "version": 3
   },
   "file_extension": ".py",
   "mimetype": "text/x-python",
   "name": "python",
   "nbconvert_exporter": "python",
   "pygments_lexer": "ipython3",
   "version": "3.9.7"
  }
 },
 "nbformat": 4,
 "nbformat_minor": 5
}
